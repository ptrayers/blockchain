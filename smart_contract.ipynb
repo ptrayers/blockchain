{
  "cells": [
    {
      "cell_type": "code",
      "execution_count": null,
      "metadata": {
        "id": "MzAnLQBFjO_u"
      },
      "outputs": [],
      "source": [
        "# !pip install web3  # if running in CoLab\n",
        "# sudo conda install web3  # if running from a Conda virtual env"
      ]
    },
    {
      "cell_type": "code",
      "source": [
        "#\n",
        "ALCHEMY_API_KEY = 'REDACTED'\n",
        "\n",
        "# Address to sign transactions\n",
        "WALLET_PRIVATE_KEY = \"REDACTED\"  # PRIVATE_KEY - from Metamask\n",
        "\n",
        "# Set your Etherscan API Key here\n",
        "ETHERSCAN_API_KEY = 'REDACTED'"
      ],
      "metadata": {
        "id": "Dxew3xgV1Kgd"
      },
      "execution_count": null,
      "outputs": []
    },
    {
      "cell_type": "code",
      "source": [
        "#\n",
        "ALCHEMY_API_KEY = '2zQoIf1Cx9A95Mwo0t6YCjV6YrNpQh1b'\n",
        "\n",
        "# Address to sign transactions\n",
        "WALLET_PRIVATE_KEY = \"dfc457669132f93158dcbaf5b1c42b5c3a702d4725cb1834eef6164fcfee459c\"  # PRIVATE_KEY - from Metamask\n",
        "\n",
        "# Set your Etherscan API Key here\n",
        "ETHERSCAN_API_KEY = 'SQRBFK92VSFVFGM3ZZVCQT3AKM3XACMQSA'"
      ],
      "metadata": {
        "id": "MXVtOQ101I3J"
      },
      "execution_count": null,
      "outputs": []
    },
    {
      "cell_type": "code",
      "source": [
        "# Address calling the functions/signing transactions\n",
        "CALLER_ADDRESS = \"0xE42400B2bAB460ce8924f90Ca7C1Ca870053D56E\"  # Ethereum PUBLIC address from MetaMask wallet (Testnet Account)\n",
        "\n",
        "# Contract ABI\n",
        "CONTRACT_ABI = '[{\"inputs\":[{\"internalType\":\"string\",\"name\":\"initialSentence\",\"type\":\"string\"}],\"stateMutability\":\"nonpayable\",\"type\":\"constructor\"},{\"inputs\":[],\"name\":\"getSentence\",\"outputs\":[{\"internalType\":\"string\",\"name\":\"\",\"type\":\"string\"}],\"stateMutability\":\"view\",\"type\":\"function\"},{\"inputs\":[{\"internalType\":\"string\",\"name\":\"newSentence\",\"type\":\"string\"}],\"name\":\"setSentence\",\"outputs\":[],\"stateMutability\":\"nonpayable\",\"type\":\"function\"}]'\n",
        "\n",
        "# Contract address for which you want to get the ABI\n",
        "CONTRACT_ADDRESS = \"0xF648c345d597376C9aFe8FeB531d5b1285165259\" # CONTRACT_ADDRESS -  Deployed contracts tab in Remix\n"
      ],
      "metadata": {
        "id": "jeDenUiUw940"
      },
      "execution_count": null,
      "outputs": []
    },
    {
      "cell_type": "code",
      "execution_count": null,
      "metadata": {
        "colab": {
          "base_uri": "https://localhost:8080/"
        },
        "id": "vEVgLAwjjpD0",
        "outputId": "93d78ced-ed00-4c33-cdb3-e15f0560a4d5"
      },
      "outputs": [
        {
          "output_type": "stream",
          "name": "stdout",
          "text": [
            "True\n",
            "AttributeDict({'baseFeePerGas': 66952092, 'blobGasUsed': '0x40000', 'difficulty': 0, 'excessBlobGas': '0x4be0000', 'extraData': HexBytes('0xd883010d0b846765746888676f312e32312e33856c696e7578'), 'gasLimit': 30000000, 'gasUsed': 29634606, 'hash': HexBytes('0xcb313d1cfa748987d2b3d9c4af56e97d1bb8aaaf8218721c0c2e26b2b076fe2c'), 'logsBloom': HexBytes('0x852010a84940c0c824394623b118294080130151001000042290c22263088150e3002128206004013800a5400044108f221400008220c3888420180120343b660808e00908bd4081500850fa002014c94e093c4095800497002900a1200401b0e20202aa026142d3c605420414044d07408b54c1018870e0036c921c880890528b88472ea0608024b4099b2b880054a0041908204000401c10c1700086c304683b8a26020808202a104088001c010b028842805010118c01a486620203c21030123213620a0150001187240008d72164503062941882441c0080b7000044b02910105065a460b0498a400854a0801274dac8201a4a168410c4400b0289004205'), 'miner': '0xC4bFccB1668d6E464F33a76baDD8C8D7D341e04A', 'mixHash': HexBytes('0xd8a5dee245429519919b825e9e753ab24bb6d6978724c86a87d504a68ede5240'), 'nonce': HexBytes('0x0000000000000000'), 'number': 5350812, 'parentBeaconBlockRoot': '0x20b20694bee3739f5aa8480c065f710efe2c66a9c34f720437eb87740ac88951', 'parentHash': HexBytes('0x276f0e33fed1772ede77d535f39cd87e070c12d768faa20a824d08ca2a953c33'), 'receiptsRoot': HexBytes('0x35c53640e621e8c3edf944b3130f13815e394027522de52ebc390e28f9df9e5e'), 'sha3Uncles': HexBytes('0x1dcc4de8dec75d7aab85b567b6ccd41ad312451b948a7413f0a142fd40d49347'), 'size': 240680, 'stateRoot': HexBytes('0xef6963c7c93eade0156512070b7568a8b9e49c0df1e4ee4b7f16f483405b1816'), 'timestamp': 1708739004, 'totalDifficulty': 17000018015853232, 'transactions': [HexBytes('0xca040879ea60cd24582e2367c8ea11ed241d8ebb36c79d750119f548440ff699'), HexBytes('0x2dad32e5bb19c27a32033fd3952c7135e0ab2027e2a0640516d614a4544d1dc0'), HexBytes('0x0c552851e22f339aa9fec88b9ee853b10303abc1b903175991809a7512dce8de'), HexBytes('0x325e46266b35ce08a1563d11d26d0f9667b39b523fed5b5e71e56b983e4b1fa0'), HexBytes('0x0eb03fdbdb0f301dcb0bd3c6de2bc175cf7d4f17d8362f025de331d0820f0667'), HexBytes('0xbef9a0aabb03d57141df69c2b473402e517feb8bf80833db20a93d8d9121df3b'), HexBytes('0x029e3978f8d2db081a41dc160e3c3847e1c1a27f33eb27a8f5f78379f48b2812'), HexBytes('0x8c4a876f408dfc0d00598e2410962d37ff2a72595aeef177579fafbc5f22663b'), HexBytes('0xa9b766482a3642da5194f60ec9043a626ad817f9bf85858cb6439dcb71b30d06'), HexBytes('0xf91836d545374a0bd1820bc4cb0a2cd01bdb5cdbe1a7466047f42272466aa065'), HexBytes('0x8ca10c0681a20b2f59bd9923c92184614cdcd49bc4939b331007ebe004db6869'), HexBytes('0xe399d4dbeece04ffd9785a854862d89890ba8747be38dafa6484e7cc85ace521'), HexBytes('0x08da322229fd8a6ce55923d77f0e68f90bf40b171b5127eed55a8cf8356ae060'), HexBytes('0xec3f2e216a6fb6b57e08db40ac9f575dfdac6030cc0a68aea762a943fbfd2a74'), HexBytes('0xd9fe6f5ed613cd99b8627e33512e8c75af4649314e51df614128c765db690b91'), HexBytes('0x18ef954609e42ba7ff9921a1bc49dc8a265c82e840815c828b6f676aabdb1318'), HexBytes('0x08a723fd6669717f6e8bac3cf4660578fcd4338377b15a03dec31f7d840787f7'), HexBytes('0x9165316fef63e741d1565afdd078af02278f6eb1f4b1765a880dcf1478bd0633'), HexBytes('0x589a72327516a4b90d6c4e9ae093e55d986957edac585914a2f5139ea5acfd65'), HexBytes('0x0d91adf44fd0a289165ddea2b7897a8d74d02b1e38819ea64c306ae3745674e5'), HexBytes('0x4839d168fafcf3183fcb713d4b4d39f0e6298d8616a4fec6171d3f7d9baeff3c'), HexBytes('0x01691ff71705b2d3e310e88918a6781bdf0344b84f1aeef320331f5588aedbd2'), HexBytes('0x35020d54d1158b963e75f3c88b33785d1873ba22e58501ea7949e2b7b25b4dec'), HexBytes('0x273b27a3c737c86d8c0ab761f2acc1814dd4f68b166d1a8b1f1e4262f217f9b0'), HexBytes('0x2a6079488204a573364c5e823a41ccb396a69547703e24b0d640e0e4bd429cb3'), HexBytes('0xfdb617a014fb7fefb86af91f572c14b6fe546f0cf1a47928a1aae864ae32926d'), HexBytes('0x0e090b9baaa88cdd7cbd8752a4d081b11b499d8e2033b837a3b849395e660fb9'), HexBytes('0x96ae0fccf5d4b0e24ac57efed1f231b5cd3f71e84f02c0c70ca16ad137b14bce'), HexBytes('0xe636d35a6d04055aa0f2318b6082bd8a5490ca364fde220e3773bcfaa771e83f'), HexBytes('0xf558c63c0d864f3432559bc67a5685638d14e9ed1d9d9e82eab8522df5044a24'), HexBytes('0xf764b3bd801250d21a7bb6b482d756bde466f1898934e16fa0872353a8c29108'), HexBytes('0x4fc950ce1bc8f79dfef814bf369555e3302c3835aa522b1f88d1f1f64c73b138'), HexBytes('0x3eecdcf339fce04b219f52d8aa8add8ab27c2896c7de2a2abd35a06c9846174e'), HexBytes('0xe15f5d4907624bcdd82e88a4a73a05cb0653c18976ad7eafa73dfad9e0f05694'), HexBytes('0x9eba120da962b7fe24f09ff922779913e4b9f8c1851275d920960be0b0eb2a79'), HexBytes('0xa6c59a638103560fc1c004d923ebeb85b5716440d4a8b3a8a681bbe26ada1602'), HexBytes('0x0ac9199201adeaf5e2c7111f1655213beef6526f28106e3aefe0dad1df2e2e27'), HexBytes('0xe44ee0b76c28c2db5525434dc0ee26090772a421de9c79df51b33012f1afe756'), HexBytes('0x8095b777504aa20ea22e48b90e0fa6a8b4684793e65a5666ce79e0cc224e64a0'), HexBytes('0x61c9f8f8ff2f9296fc98f09efbf7f72aff5a6eec57812d78a712b1f61db102f8'), HexBytes('0x229f4fa75ca02bc77c2d87161c8bede2fb847b3bf88303475607af4e925d1fdd'), HexBytes('0x3a8f0c0e4a0ef6362b04d24712dcf862308ac9b0a6ca871341d68f0565cf808b'), HexBytes('0x2accdc2a0d29a59ad82d7a5d51358f8e03b0800a05d70d7ff1f4f33f2d2b25fb'), HexBytes('0x66a2c1878ef10e6aa8a82f14cdf599ecf499b97a676c6aaa8184cf55a9d70b82'), HexBytes('0xed59c4f422a157abaa4f9c312d0f22750c0ff4c02fec96b39456f1b9e21d9a5f'), HexBytes('0xf74a89fa3373badd52640d1378f3c4c0802087949955c16275b6bfce31243de0'), HexBytes('0xa8f398abc3dd09c8403ae00e17709059d2562795a074f0cec2f39f6479593468'), HexBytes('0x1c56f0e9657f076a67197f3051ce95bce41e91c9da176801ab13114b348a2b91'), HexBytes('0x2511b7a0af4c9c6587ee5c1f33e3be87eb9ef1551108993dbe07bd3c19a70b1c'), HexBytes('0xd89f1c103004a0354f14ef900362643607ebf952a20b3b126abe9189f43f712f'), HexBytes('0x5d1a8426301b1fa9657396da0935a5ff7f5aa2a0779971f9aa0364e8eef8e405'), HexBytes('0x9c8b2a01d78f6327db4f44a9613105be0c75526c9249b1487bc3b6c3e03bd1fc'), HexBytes('0xf5b762ee5ea04e52b53441b57f9a375e822446fa98d2103ca506bbccc74c29a4'), HexBytes('0xd37771980da89be836837785ef98d8f79358155fba7ccd9c5ad96b9d5f789fa6'), HexBytes('0x64b938340f53c51a6178ce682cb0b2d9c4d8afc1b932124618f60739201eee5d'), HexBytes('0x3acaccf573d9e90b2ad5ee63f642e1229ba806c562f5f17426823631ba2ba572'), HexBytes('0x642eecb64ad14a6109949f5f7c213ab872cf7cff608b9af50a1fdab0d1a85489'), HexBytes('0xe9ee65056b9f418b42298c54f52de974ca9e5eb0c3848b6e712e3b3369a6917a'), HexBytes('0x7c5fa2cf41c98b7df592bbf07539c4331992bb1a910bc8ab2ad51dc8663be5d7'), HexBytes('0x2023c9a599379a63a27885e6355672365fa7340e8c84e203fc014b6d3b84636d'), HexBytes('0x46e6f499d570a785507c46ae7c564c1b66a36ab8ed3cbee1e346e4da5bb8a25a'), HexBytes('0xa5f9b18bd43a643a7cf5522f0f6bc0da685d1750ed538067c8cf94e4f8124dbe'), HexBytes('0x5b2fa471db57159c0a5580d90139de2582768a468ddcd20f9b4bf797f68e66c9'), HexBytes('0x08657f3cd47df6133ccaac406c1e5ce997c8f37faf634d3124545936bd429f43'), HexBytes('0xd0d8568382db1bcd6d91bff84ec66f22cc42141b7b6cb0e74d91295a3ddd56d6'), HexBytes('0x4767e7c4918110708c7b0f9680b5d0cd8909c7a3722486850a5a8904b99e9b30'), HexBytes('0x31f01dec61a5240d28d46727165388e3df06d8fd9bcd8959178f28cb90950e85'), HexBytes('0xd46333c614f0d25801a4c154a2574f9c0d891af8bae4d59808b772937453eebb'), HexBytes('0xa602a5751bad7db25deb58c8e43c41b18770afc3c38607bc1df6b97b41655d0d'), HexBytes('0x67278a7ca2d320d1fdc8869a104c20221c5dc32abc8f3baa05b3a03128ce22dc'), HexBytes('0x251c59fd6377d6cfb4bb7cb9c7162ad1b55653be76e25725e4086561b9be4eff'), HexBytes('0xb56b3837065513418d6c37e0dd22c2dad5d893ec51eacb5cfbe07b083ac32b14'), HexBytes('0x74737968decdeac1c77af7e4e735a68f1491cc2549e9ea4b29e63ca0d779c92b'), HexBytes('0x6a8c5d4f8e07557ae73e82c5a05fb20dd28f7c84018c38964c607867a3b78501'), HexBytes('0x545b192cfa321510ebd747c330f9976f9f23d3005db1c64c7735455c79890e09'), HexBytes('0x22a25bb2ce88a5ac27d3527641f8d60f309460d29699c42bff0c108bb327aa98'), HexBytes('0x17a8609a77750b8ce9f0ad1d08262e77190331be41a3a74fb664b5333643b731'), HexBytes('0x08551d3f5b26c05b67bdbedaa58c33f8ccd061310bae8930d8d224d7f2743989'), HexBytes('0x34ab6cae5c62ec4c2e577b0f2c66d5e46f781a719d93f9b815e4ce73640bd7c8'), HexBytes('0x0557a20628da24b35dfb2b98e76e61a0994fbffc8c9443b00e1a2a7a9e016f41'), HexBytes('0xee0a1529186beb7fbe1fe8ef9fb2c6d610c28a7cc4899ae991f80b3fba09deaf'), HexBytes('0x0aa68633aeec0fb5526e4fbacbd164bd9051d1791ea82f93e309ec6cae14d21b'), HexBytes('0x95513651837ebaa0af328fbbfecd6c1d26ebb7c184bc82617a8c40c1cc0be95a'), HexBytes('0x5b14fb4db55015dfdda1d3bb140e517787494a29b42238ed3f60db3429fcd64e'), HexBytes('0x3e89d9ce74ac10f2e7418eb0e88c3ebe1c4a93a8a182a8531aa6d03ed1a4c5f8'), HexBytes('0xc46fa2f5d43b6b2718da6d57acb6b7ea15bd459939bbdb85f3824ce302849f43'), HexBytes('0x3cceb99c5c2b2b70ad82db4cf4e4452ba4f436dab7bc78fe5fb963f2f38316ec'), HexBytes('0xa508a02d2145870f888db4db79260913212cd43fec4e921da5e3391b4d0d1c99'), HexBytes('0x67c27a65e8103a0a703fa441bfbd37209dc819ea657995a5cb1af24c90b4d5a0'), HexBytes('0x6ad010530a4ebd1966d447ebaf56509048795110e627aad87a5d5e6cdcc7b311'), HexBytes('0x6fc96a48ccac84da3aaea508d496f88a0881774a38b23fea11dfc8f28751d7af'), HexBytes('0x03d73759a754140bbcd878937c278e1abdd4b83cb49fa297d803af18901d52ae'), HexBytes('0xfefc1fa4d39d199afc7d1a1eb0b5344199b80d77187fa4ae612480195eaddffd'), HexBytes('0xf1812fb746b326a96e8901b3f635e8d1b9626f03729f606ca00cf6908d7832ba'), HexBytes('0x53b58bed781863fc2824a105ea505905799d81a781eda52e8582214a57026d14'), HexBytes('0x033dd0ee478ddf7aadaa68392dfa59722e852f23eb0c2eb3f06be50291a00a06'), HexBytes('0x8f8f7565ac45eac1cf3af1fa4734c51b0a920912c97780a1f3a886aaab943bbf'), HexBytes('0x286a2673edf283dd99c52b5ce82e8223ea117aa308bae492bdda8bb529690d40'), HexBytes('0x3f2e7490c761cec886df1a51e3ef166167907ce98cb7ff68ec3a8079c88c740e'), HexBytes('0xfc3ab720c46dd09a90d15c0764e339d37289dbff6a0a2dca8e860c50d8b59e8b'), HexBytes('0x5155430be9dd3df7d94deefc5c114bb5d61a9d125b46cb5458b20a30319a1b61'), HexBytes('0x02c3b54ffc304d2e623f738caaf5124ec31c99c517de348391f7ce94dfaf0fd6')], 'transactionsRoot': HexBytes('0x641a5e30a207a2086404fd11b38d4b3908fdee94a2dcd1477a29d2e291dbf59e'), 'uncles': [], 'withdrawals': [AttributeDict({'index': 37752158, 'validatorIndex': 497, 'address': '0x25c4a76E7d118705e7Ea2e9b7d8C59930d8aCD3b', 'amount': 1888}), AttributeDict({'index': 37752159, 'validatorIndex': 405, 'address': '0x25c4a76E7d118705e7Ea2e9b7d8C59930d8aCD3b', 'amount': 1888}), AttributeDict({'index': 37752160, 'validatorIndex': 406, 'address': '0x25c4a76E7d118705e7Ea2e9b7d8C59930d8aCD3b', 'amount': 1888}), AttributeDict({'index': 37752161, 'validatorIndex': 408, 'address': '0x25c4a76E7d118705e7Ea2e9b7d8C59930d8aCD3b', 'amount': 1888}), AttributeDict({'index': 37752162, 'validatorIndex': 415, 'address': '0x25c4a76E7d118705e7Ea2e9b7d8C59930d8aCD3b', 'amount': 1888}), AttributeDict({'index': 37752163, 'validatorIndex': 419, 'address': '0x25c4a76E7d118705e7Ea2e9b7d8C59930d8aCD3b', 'amount': 1888}), AttributeDict({'index': 37752164, 'validatorIndex': 420, 'address': '0x25c4a76E7d118705e7Ea2e9b7d8C59930d8aCD3b', 'amount': 1888}), AttributeDict({'index': 37752165, 'validatorIndex': 434, 'address': '0x25c4a76E7d118705e7Ea2e9b7d8C59930d8aCD3b', 'amount': 944}), AttributeDict({'index': 37752166, 'validatorIndex': 441, 'address': '0x25c4a76E7d118705e7Ea2e9b7d8C59930d8aCD3b', 'amount': 944}), AttributeDict({'index': 37752167, 'validatorIndex': 446, 'address': '0x25c4a76E7d118705e7Ea2e9b7d8C59930d8aCD3b', 'amount': 944}), AttributeDict({'index': 37752168, 'validatorIndex': 448, 'address': '0x25c4a76E7d118705e7Ea2e9b7d8C59930d8aCD3b', 'amount': 944}), AttributeDict({'index': 37752169, 'validatorIndex': 449, 'address': '0x25c4a76E7d118705e7Ea2e9b7d8C59930d8aCD3b', 'amount': 944}), AttributeDict({'index': 37752170, 'validatorIndex': 451, 'address': '0x25c4a76E7d118705e7Ea2e9b7d8C59930d8aCD3b', 'amount': 944}), AttributeDict({'index': 37752171, 'validatorIndex': 453, 'address': '0x25c4a76E7d118705e7Ea2e9b7d8C59930d8aCD3b', 'amount': 944}), AttributeDict({'index': 37752172, 'validatorIndex': 455, 'address': '0x25c4a76E7d118705e7Ea2e9b7d8C59930d8aCD3b', 'amount': 1841848}), AttributeDict({'index': 37752173, 'validatorIndex': 457, 'address': '0x25c4a76E7d118705e7Ea2e9b7d8C59930d8aCD3b', 'amount': 944})], 'withdrawalsRoot': HexBytes('0x663fb26cc22bbd6882f45074fde0bd1249bcbdae956eb4ab38c3a29fa8757bdd')})\n"
          ]
        }
      ],
      "source": [
        "# Setup\n",
        "import requests\n",
        "import json\n",
        "\n",
        "from web3 import Web3\n",
        "\n",
        "# Alchemy API URL\n",
        "alchemy_url = f\"https://eth-sepolia.g.alchemy.com/v2/{ALCHEMY_API_KEY}\"\n",
        "web3 = Web3(Web3.HTTPProvider(alchemy_url))\n",
        "\n",
        "# Print if web3 is successfully connected\n",
        "print(web3.is_connected())\n",
        "\n",
        "# Test Get the latest block number\n",
        "latest_block = web3.eth.get_block(\"latest\")\n",
        "print(latest_block)"
      ]
    },
    {
      "cell_type": "code",
      "execution_count": null,
      "metadata": {
        "colab": {
          "base_uri": "https://localhost:8080/"
        },
        "id": "Nr8ItBImks5W",
        "outputId": "689c40b6-8e9c-49b2-ead0-345f52f49c5c"
      },
      "outputs": [
        {
          "output_type": "stream",
          "name": "stdout",
          "text": [
            "--------------------------------------------------\n",
            "Connection Successful\n",
            "--------------------------------------------------\n"
          ]
        }
      ],
      "source": [
        "# Verify if the connection is successful\n",
        "if web3.is_connected():\n",
        "    print(\"-\" * 50)\n",
        "    print(\"Connection Successful\")\n",
        "    print(\"-\" * 50)\n",
        "else:\n",
        "    print(\"Connection Failed\")"
      ]
    },
    {
      "cell_type": "code",
      "execution_count": null,
      "metadata": {
        "colab": {
          "base_uri": "https://localhost:8080/"
        },
        "id": "dun7RKFvFuF4",
        "outputId": "1105d361-842a-426d-aebe-a111802d84ee"
      },
      "outputs": [
        {
          "output_type": "stream",
          "name": "stdout",
          "text": [
            "Error fetching contract ABI: Contract source code not verified\n"
          ]
        }
      ],
      "source": [
        "# URL for the Etherscan API endpoint to get contract ABI\n",
        "etherscan_url = f\"https://api.etherscan.io/api?module=contract&action=getabi&address={CONTRACT_ADDRESS}&apikey={ETHERSCAN_API_KEY}\"\n",
        "\n",
        "# Make an API request to Etherscan\n",
        "response = requests.get(etherscan_url)\n",
        "\n",
        "# Parse the response JSON\n",
        "data = response.json()\n",
        "\n",
        "# Check if the request was successful\n",
        "if data['status'] == '1' and data['message'] == 'OK':\n",
        "    # ABI is returned as a JSON-encoded string, so we need to parse it\n",
        "    contract_abi = json.loads(data['result'])\n",
        "    print(\"Contract ABI:\")\n",
        "    print(json.dumps(contract_abi, indent=2))\n",
        "else:\n",
        "    print(\"Error fetching contract ABI:\", data['result'])\n"
      ]
    },
    {
      "cell_type": "code",
      "execution_count": null,
      "metadata": {
        "colab": {
          "base_uri": "https://localhost:8080/"
        },
        "id": "95e1ai9qk2ey",
        "outputId": "83f54b5b-da3a-4ae2-b10d-5415c55e1161"
      },
      "outputs": [
        {
          "output_type": "stream",
          "name": "stdout",
          "text": [
            "ABI is valid JSON.\n",
            "Function name: getSentence()\n",
            "Function name: setSentence(string newSentence)\n",
            "\n",
            "The famous quote is:\n",
            " If I had asked people what they wanted, they would have said faster horses\n"
          ]
        }
      ],
      "source": [
        "# Initialize address nonce\n",
        "nonce = web3.eth.get_transaction_count(CALLER_ADDRESS)\n",
        "\n",
        "try:\n",
        "    # Parse the ABI string to a Python object\n",
        "    parsed_abi = json.loads(CONTRACT_ABI)\n",
        "    print(\"ABI is valid JSON.\")\n",
        "except json.JSONDecodeError as e:\n",
        "    print(f\"Invalid JSON: {e}\")\n",
        "\n",
        "# Then use the parsed ABI to create the contract instance\n",
        "contract = web3.eth.contract(address=CONTRACT_ADDRESS, abi=parsed_abi)\n",
        "\n",
        "# Now, parsed_abi should be a list of dictionaries\n",
        "if isinstance(parsed_abi, list):\n",
        "    # Extract functions from the ABI\n",
        "    functions = [item for item in parsed_abi if item.get('type') == 'function']\n",
        "\n",
        "    # Iterate over the functions and print details\n",
        "    for func in functions:\n",
        "        func_name = func.get('name', 'Unnamed function')\n",
        "        inputs = func.get('inputs', [])\n",
        "        input_details = ', '.join([f\"{inp['type']} {inp['name']}\" for inp in inputs])\n",
        "        print(f\"Function name: {func_name}({input_details})\")\n",
        "else:\n",
        "    print(\"The ABI was not parsed into a list as expected.\")\n",
        "\n",
        "\n",
        "# Create the contract instance\n",
        "contract = web3.eth.contract(address=CONTRACT_ADDRESS, abi=parsed_abi)\n",
        "\n",
        "# Example function call (Make sure the function exists in your ABI)\n",
        "try:\n",
        "    # Replace 'getSentence' with an actual function from your contract's ABI\n",
        "    quote = contract.functions.getSentence().call()\n",
        "    print(\"\\nThe famous quote is:\\n\", quote)\n",
        "    pass  # Replace or remove this pass statement with your function call\n",
        "except Exception as e:\n",
        "    print(f\"Error calling function: {e}\")"
      ]
    }
  ],
  "metadata": {
    "colab": {
      "provenance": []
    },
    "kernelspec": {
      "display_name": "Python 3",
      "name": "python3"
    },
    "language_info": {
      "name": "python"
    }
  },
  "nbformat": 4,
  "nbformat_minor": 0
}