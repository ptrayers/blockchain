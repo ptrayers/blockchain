{
  "cells": [
    {
      "cell_type": "code",
      "execution_count": null,
      "metadata": {
        "colab": {
          "base_uri": "https://localhost:8080/"
        },
        "id": "MzAnLQBFjO_u",
        "outputId": "cc4a362a-c41a-44ce-b1dc-a1be89ce8a9e"
      },
      "outputs": [
        {
          "name": "stdout",
          "output_type": "stream",
          "text": [
            "Collecting web3\n",
            "  Downloading web3-6.15.1-py3-none-any.whl (1.6 MB)\n",
            "\u001b[2K     \u001b[90m━━━━━━━━━━━━━━━━━━━━━━━━━━━━━━━━━━━━━━━━\u001b[0m \u001b[32m1.6/1.6 MB\u001b[0m \u001b[31m8.7 MB/s\u001b[0m eta \u001b[36m0:00:00\u001b[0m\n",
            "\u001b[?25hRequirement already satisfied: aiohttp>=3.7.4.post0 in /usr/local/lib/python3.10/dist-packages (from web3) (3.9.3)\n",
            "Collecting eth-abi>=4.0.0 (from web3)\n",
            "  Downloading eth_abi-5.0.0-py3-none-any.whl (28 kB)\n",
            "Collecting eth-account>=0.8.0 (from web3)\n",
            "  Downloading eth_account-0.11.0-py3-none-any.whl (108 kB)\n",
            "\u001b[2K     \u001b[90m━━━━━━━━━━━━━━━━━━━━━━━━━━━━━━━━━━━━━━━━\u001b[0m \u001b[32m109.0/109.0 kB\u001b[0m \u001b[31m15.1 MB/s\u001b[0m eta \u001b[36m0:00:00\u001b[0m\n",
            "\u001b[?25hCollecting eth-hash[pycryptodome]>=0.5.1 (from web3)\n",
            "  Downloading eth_hash-0.7.0-py3-none-any.whl (8.7 kB)\n",
            "Collecting eth-typing>=3.0.0 (from web3)\n",
            "  Downloading eth_typing-4.0.0-py3-none-any.whl (14 kB)\n",
            "Collecting eth-utils>=2.1.0 (from web3)\n",
            "  Downloading eth_utils-4.0.0-py3-none-any.whl (77 kB)\n",
            "\u001b[2K     \u001b[90m━━━━━━━━━━━━━━━━━━━━━━━━━━━━━━━━━━━━━━━━\u001b[0m \u001b[32m77.7/77.7 kB\u001b[0m \u001b[31m10.6 MB/s\u001b[0m eta \u001b[36m0:00:00\u001b[0m\n",
            "\u001b[?25hCollecting hexbytes<0.4.0,>=0.1.0 (from web3)\n",
            "  Downloading hexbytes-0.3.1-py3-none-any.whl (5.9 kB)\n",
            "Requirement already satisfied: jsonschema>=4.0.0 in /usr/local/lib/python3.10/dist-packages (from web3) (4.19.2)\n",
            "Collecting lru-dict<1.3.0,>=1.1.6 (from web3)\n",
            "  Downloading lru_dict-1.2.0-cp310-cp310-manylinux_2_5_x86_64.manylinux1_x86_64.manylinux_2_17_x86_64.manylinux2014_x86_64.whl (28 kB)\n",
            "Collecting protobuf>=4.21.6 (from web3)\n",
            "  Downloading protobuf-4.25.3-cp37-abi3-manylinux2014_x86_64.whl (294 kB)\n",
            "\u001b[2K     \u001b[90m━━━━━━━━━━━━━━━━━━━━━━━━━━━━━━━━━━━━━━━━\u001b[0m \u001b[32m294.6/294.6 kB\u001b[0m \u001b[31m34.4 MB/s\u001b[0m eta \u001b[36m0:00:00\u001b[0m\n",
            "\u001b[?25hRequirement already satisfied: requests>=2.16.0 in /usr/local/lib/python3.10/dist-packages (from web3) (2.31.0)\n",
            "Requirement already satisfied: typing-extensions>=4.0.1 in /usr/local/lib/python3.10/dist-packages (from web3) (4.10.0)\n",
            "Collecting websockets>=10.0.0 (from web3)\n",
            "  Downloading websockets-12.0-cp310-cp310-manylinux_2_5_x86_64.manylinux1_x86_64.manylinux_2_17_x86_64.manylinux2014_x86_64.whl (130 kB)\n",
            "\u001b[2K     \u001b[90m━━━━━━━━━━━━━━━━━━━━━━━━━━━━━━━━━━━━━━━━\u001b[0m \u001b[32m130.2/130.2 kB\u001b[0m \u001b[31m15.5 MB/s\u001b[0m eta \u001b[36m0:00:00\u001b[0m\n",
            "\u001b[?25hCollecting pyunormalize>=15.0.0 (from web3)\n",
            "  Downloading pyunormalize-15.1.0.tar.gz (515 kB)\n",
            "\u001b[2K     \u001b[90m━━━━━━━━━━━━━━━━━━━━━━━━━━━━━━━━━━━━━━━━\u001b[0m \u001b[32m515.5/515.5 kB\u001b[0m \u001b[31m37.5 MB/s\u001b[0m eta \u001b[36m0:00:00\u001b[0m\n",
            "\u001b[?25h  Preparing metadata (setup.py) ... \u001b[?25l\u001b[?25hdone\n",
            "Requirement already satisfied: aiosignal>=1.1.2 in /usr/local/lib/python3.10/dist-packages (from aiohttp>=3.7.4.post0->web3) (1.3.1)\n",
            "Requirement already satisfied: attrs>=17.3.0 in /usr/local/lib/python3.10/dist-packages (from aiohttp>=3.7.4.post0->web3) (23.2.0)\n",
            "Requirement already satisfied: frozenlist>=1.1.1 in /usr/local/lib/python3.10/dist-packages (from aiohttp>=3.7.4.post0->web3) (1.4.1)\n",
            "Requirement already satisfied: multidict<7.0,>=4.5 in /usr/local/lib/python3.10/dist-packages (from aiohttp>=3.7.4.post0->web3) (6.0.5)\n",
            "Requirement already satisfied: yarl<2.0,>=1.0 in /usr/local/lib/python3.10/dist-packages (from aiohttp>=3.7.4.post0->web3) (1.9.4)\n",
            "Requirement already satisfied: async-timeout<5.0,>=4.0 in /usr/local/lib/python3.10/dist-packages (from aiohttp>=3.7.4.post0->web3) (4.0.3)\n",
            "Collecting parsimonious<0.10.0,>=0.9.0 (from eth-abi>=4.0.0->web3)\n",
            "  Downloading parsimonious-0.9.0.tar.gz (48 kB)\n",
            "\u001b[2K     \u001b[90m━━━━━━━━━━━━━━━━━━━━━━━━━━━━━━━━━━━━━━━━\u001b[0m \u001b[32m48.7/48.7 kB\u001b[0m \u001b[31m6.3 MB/s\u001b[0m eta \u001b[36m0:00:00\u001b[0m\n",
            "\u001b[?25h  Preparing metadata (setup.py) ... \u001b[?25l\u001b[?25hdone\n",
            "Collecting bitarray>=2.4.0 (from eth-account>=0.8.0->web3)\n",
            "  Downloading bitarray-2.9.2-cp310-cp310-manylinux_2_17_x86_64.manylinux2014_x86_64.whl (288 kB)\n",
            "\u001b[2K     \u001b[90m━━━━━━━━━━━━━━━━━━━━━━━━━━━━━━━━━━━━━━━━\u001b[0m \u001b[32m288.3/288.3 kB\u001b[0m \u001b[31m24.9 MB/s\u001b[0m eta \u001b[36m0:00:00\u001b[0m\n",
            "\u001b[?25hCollecting eth-keyfile>=0.6.0 (from eth-account>=0.8.0->web3)\n",
            "  Downloading eth_keyfile-0.8.0-py3-none-any.whl (7.5 kB)\n",
            "Collecting eth-keys>=0.4.0 (from eth-account>=0.8.0->web3)\n",
            "  Downloading eth_keys-0.5.0-py3-none-any.whl (21 kB)\n",
            "Collecting eth-rlp>=0.3.0 (from eth-account>=0.8.0->web3)\n",
            "  Downloading eth_rlp-1.0.1-py3-none-any.whl (4.9 kB)\n",
            "Collecting rlp>=1.0.0 (from eth-account>=0.8.0->web3)\n",
            "  Downloading rlp-4.0.0-py3-none-any.whl (20 kB)\n",
            "Collecting pycryptodome<4,>=3.6.6 (from eth-hash[pycryptodome]>=0.5.1->web3)\n",
            "  Downloading pycryptodome-3.20.0-cp35-abi3-manylinux_2_17_x86_64.manylinux2014_x86_64.whl (2.1 MB)\n",
            "\u001b[2K     \u001b[90m━━━━━━━━━━━━━━━━━━━━━━━━━━━━━━━━━━━━━━━━\u001b[0m \u001b[32m2.1/2.1 MB\u001b[0m \u001b[31m34.4 MB/s\u001b[0m eta \u001b[36m0:00:00\u001b[0m\n",
            "\u001b[?25hCollecting cytoolz>=0.10.1 (from eth-utils>=2.1.0->web3)\n",
            "  Downloading cytoolz-0.12.3-cp310-cp310-manylinux_2_17_x86_64.manylinux2014_x86_64.whl (2.0 MB)\n",
            "\u001b[2K     \u001b[90m━━━━━━━━━━━━━━━━━━━━━━━━━━━━━━━━━━━━━━━━\u001b[0m \u001b[32m2.0/2.0 MB\u001b[0m \u001b[31m59.2 MB/s\u001b[0m eta \u001b[36m0:00:00\u001b[0m\n",
            "\u001b[?25hRequirement already satisfied: jsonschema-specifications>=2023.03.6 in /usr/local/lib/python3.10/dist-packages (from jsonschema>=4.0.0->web3) (2023.12.1)\n",
            "Requirement already satisfied: referencing>=0.28.4 in /usr/local/lib/python3.10/dist-packages (from jsonschema>=4.0.0->web3) (0.33.0)\n",
            "Requirement already satisfied: rpds-py>=0.7.1 in /usr/local/lib/python3.10/dist-packages (from jsonschema>=4.0.0->web3) (0.18.0)\n",
            "Requirement already satisfied: charset-normalizer<4,>=2 in /usr/local/lib/python3.10/dist-packages (from requests>=2.16.0->web3) (3.3.2)\n",
            "Requirement already satisfied: idna<4,>=2.5 in /usr/local/lib/python3.10/dist-packages (from requests>=2.16.0->web3) (3.6)\n",
            "Requirement already satisfied: urllib3<3,>=1.21.1 in /usr/local/lib/python3.10/dist-packages (from requests>=2.16.0->web3) (2.0.7)\n",
            "Requirement already satisfied: certifi>=2017.4.17 in /usr/local/lib/python3.10/dist-packages (from requests>=2.16.0->web3) (2024.2.2)\n",
            "Requirement already satisfied: toolz>=0.8.0 in /usr/local/lib/python3.10/dist-packages (from cytoolz>=0.10.1->eth-utils>=2.1.0->web3) (0.12.1)\n",
            "Requirement already satisfied: regex>=2022.3.15 in /usr/local/lib/python3.10/dist-packages (from parsimonious<0.10.0,>=0.9.0->eth-abi>=4.0.0->web3) (2023.12.25)\n",
            "Building wheels for collected packages: pyunormalize, parsimonious\n",
            "  Building wheel for pyunormalize (setup.py) ... \u001b[?25l\u001b[?25hdone\n",
            "  Created wheel for pyunormalize: filename=pyunormalize-15.1.0-py3-none-any.whl size=516030 sha256=a4abad5f4f0e2e261edded6bf05214d842db4ada5b86e168f39eee0a3f7fbdd4\n",
            "  Stored in directory: /root/.cache/pip/wheels/b8/b6/c6/6fc11f58d3fd02f387cf3b18479bb5c6d4143995d0fa401622\n",
            "  Building wheel for parsimonious (setup.py) ... \u001b[?25l\u001b[?25hdone\n",
            "  Created wheel for parsimonious: filename=parsimonious-0.9.0-py3-none-any.whl size=44298 sha256=c71f2b102e61b475182149c53ea58f231cac1bc8a96b8cc26fa3df5d960417d0\n",
            "  Stored in directory: /root/.cache/pip/wheels/a8/6e/e1/5274cd97b5abf9c9fa5c7f51185d48bfc8095d8ce6ca251155\n",
            "Successfully built pyunormalize parsimonious\n",
            "Installing collected packages: lru-dict, bitarray, websockets, pyunormalize, pycryptodome, protobuf, parsimonious, hexbytes, eth-typing, eth-hash, cytoolz, eth-utils, rlp, eth-keys, eth-abi, eth-rlp, eth-keyfile, eth-account, web3\n",
            "  Attempting uninstall: protobuf\n",
            "    Found existing installation: protobuf 3.20.3\n",
            "    Uninstalling protobuf-3.20.3:\n",
            "      Successfully uninstalled protobuf-3.20.3\n",
            "\u001b[31mERROR: pip's dependency resolver does not currently take into account all the packages that are installed. This behaviour is the source of the following dependency conflicts.\n",
            "tensorflow-metadata 1.14.0 requires protobuf<4.21,>=3.20.3, but you have protobuf 4.25.3 which is incompatible.\u001b[0m\u001b[31m\n",
            "\u001b[0mSuccessfully installed bitarray-2.9.2 cytoolz-0.12.3 eth-abi-5.0.0 eth-account-0.11.0 eth-hash-0.7.0 eth-keyfile-0.8.0 eth-keys-0.5.0 eth-rlp-1.0.1 eth-typing-4.0.0 eth-utils-4.0.0 hexbytes-0.3.1 lru-dict-1.2.0 parsimonious-0.9.0 protobuf-4.25.3 pycryptodome-3.20.0 pyunormalize-15.1.0 rlp-4.0.0 web3-6.15.1 websockets-12.0\n"
          ]
        }
      ],
      "source": [
        "# !pip install web3  # if running in CoLab\n",
        "# sudo conda install web3  # if running from a Conda virtual env"
      ]
    },
    {
      "cell_type": "code",
      "execution_count": null,
      "metadata": {
        "id": "Dxew3xgV1Kgd"
      },
      "outputs": [],
      "source": [
        "# ---REDACTED---\n",
        "\n",
        "#\n",
        "ALCHEMY_API_KEY = 'REDACTED'\n",
        "\n",
        "# Address to sign transactions\n",
        "CALLER_PRIVATE_KEY = \"REDACTED\"  # PRIVATE_KEY - from Metamask Wallet\n",
        "\n",
        "# Set your Etherscan API Key here\n",
        "ETHERSCAN_API_KEY = 'REDACTED'"
      ]
    },
    {
      "cell_type": "code",
      "execution_count": null,
      "metadata": {
        "id": "jeDenUiUw940"
      },
      "outputs": [],
      "source": [
        "# Address calling the functions/signing transactions\n",
        "CALLER_ADDRESS = \"0xE42400B2bAB460ce8924f90Ca7C1Ca870053D56E\"  # Ethereum PUBLIC address from MetaMask wallet (Testnet Account)\n",
        "\n",
        "# Contract ABI\n",
        "CONTRACT_ABI = '[{\"inputs\":[{\"internalType\":\"string\",\"name\":\"initialSentence\",\"type\":\"string\"}],\"stateMutability\":\"nonpayable\",\"type\":\"constructor\"},{\"inputs\":[],\"name\":\"getSentence\",\"outputs\":[{\"internalType\":\"string\",\"name\":\"\",\"type\":\"string\"}],\"stateMutability\":\"view\",\"type\":\"function\"},{\"inputs\":[{\"internalType\":\"string\",\"name\":\"newSentence\",\"type\":\"string\"}],\"name\":\"setSentence\",\"outputs\":[],\"stateMutability\":\"nonpayable\",\"type\":\"function\"}]'\n",
        "\n",
        "# Contract address for which you want to get the ABI\n",
        "CONTRACT_ADDRESS = \"0xF648c345d597376C9aFe8FeB531d5b1285165259\" # CONTRACT_ADDRESS -  Deployed contracts tab in Remix\n"
      ]
    },
    {
      "cell_type": "code",
      "execution_count": null,
      "metadata": {
        "colab": {
          "base_uri": "https://localhost:8080/"
        },
        "id": "vEVgLAwjjpD0",
        "outputId": "d59d4fad-d418-470b-a7eb-b36cd87af1db"
      },
      "outputs": [
        {
          "name": "stdout",
          "output_type": "stream",
          "text": [
            "True\n",
            "AttributeDict({'baseFeePerGas': 81129260, 'blobGasUsed': '0xc0000', 'difficulty': 0, 'excessBlobGas': '0x4c80000', 'extraData': HexBytes('0xd883010d0b846765746888676f312e32312e36856c696e7578'), 'gasLimit': 30000000, 'gasUsed': 24102387, 'hash': HexBytes('0x9b36f844e37b2aec077f587562362aa043d70c1de21ca50bf1d46242ebd1edf9'), 'logsBloom': HexBytes('0x2e08404a8840420a2911500a530044488331500000004005069044b250cba0124001a149e0800010a8a04000100c01c69000100248a0410085b334101224200ac820a04ac0158b085000448a1520091086813a348a066240040281088106563b09622486864d624d2240004506020bb74e0bc0c1000c08604008ac54c4002c408264010d4712543406208120100a93000420420104000c4000019081a4509841220c26040908f8064450002020944c0a0a50069884b00c0cb0850702525a102a4080b202850c0804008119358f426c000934c210a04c800c020085400885640061322000c848118a02c03001a48639c8064826224b6210422032180101381a45'), 'miner': '0xF29Ff96aaEa6C9A1fBa851f74737f3c069d4f1a9', 'mixHash': HexBytes('0x48b18d241963e42c2892652802c865b2cb55660550e9d0847fd1c13718464d71'), 'nonce': HexBytes('0x0000000000000000'), 'number': 5417438, 'parentBeaconBlockRoot': '0x60e695ea20e4b88ae68921a652427cefbf9a968d7a7dcaab2378b138e5253337', 'parentHash': HexBytes('0x197865c4d9fc4438226bcdd245ac91d6c303f8a1f043d28f7435041d11c2de5a'), 'receiptsRoot': HexBytes('0x45a2bcce2c0154801ad6e382f7331b70b618f2a027e04cbc5aa90fb36ad2be84'), 'sha3Uncles': HexBytes('0x1dcc4de8dec75d7aab85b567b6ccd41ad312451b948a7413f0a142fd40d49347'), 'size': 192983, 'stateRoot': HexBytes('0xb7fe2b94e5d0afa530d89b3bdd7552cfa408a655d1bf0a69bec9f72da0c4a09a'), 'timestamp': 1709589444, 'totalDifficulty': 17000018015853232, 'transactions': [HexBytes('0x2ecd39cf93eb46303ffef827cb98fab50e3a4ba0bfaa4769804e5c5702cd4d34'), HexBytes('0xc4173663493984f9345bc8dda8cccf4fc41d8cfeae123742a68dd06d80aff5a6'), HexBytes('0xbb9461cf49c9b4844199d1cf1e9a489712da56d5be8abee16f84af5cd55d219a'), HexBytes('0xce712dd3cc9585c8115fe3728532711b02e452e01fdcbab3e53a69344e94a4ba'), HexBytes('0xe6204619e4369ade675dfc2fc3295326a86bbd57b5739f228e443d80e084f4f0'), HexBytes('0xdf18ac8bd19d8eab5702a4d0d3bf7f54f99db36c8ba477ca11db113b794bbd07'), HexBytes('0x1aaf98fc0895d0a24b09c6a82aa88dbbe5f230c32f43bcde61fd529a2b158386'), HexBytes('0x5eee7a6df2ab0a02e6330f13ddd29521bcd58ad411072040e13b045325ae803a'), HexBytes('0xd5c451cd1acb5da296f8d2d16b60a6d26cfaa2347b5730b982d4cf0a3a93c981'), HexBytes('0xa20f572bc042979b86f5244a457591f98d1ff70544ceb7c6f16b32dbaf7b2274'), HexBytes('0x7029736ba157326f53719ee70c4f51efaea246b62aa219c76831a9755bab96b5'), HexBytes('0x9fb205061521f30dd5e0825e19f485d96d92d080380a2617098dbb8c1ccaba2c'), HexBytes('0xdb29f57a4d2333823b4ac00cbc2357751265f889fb354371a2b0795c98a2e046'), HexBytes('0x1c558fbe7ea27207f71504ada720ad4fd9c1b99dccc35c3fbb1a955dd4a7160d'), HexBytes('0x4bafef35962c1af15bd54477fad9d0a31bb0b03cb5f62a7299bb9767cbda177d'), HexBytes('0x82d66509681ab96724825614b1057c53f4753f1ec341908a610b56239bd45126'), HexBytes('0xdad65118897009480ba09ec2f5245bb356b3bc98229d9c1e09b7374b50ed4fbf'), HexBytes('0xc389f0d1fc25670996ecdefd44d6972b159ec7a8ff9698b17113e345ff6c35df'), HexBytes('0x9c73383de125ea7b40fd3b6e3576d65a0c474db555bfca6d2d291a135f02fc41'), HexBytes('0xce502c66bb60a02c96f80d0523032d29442e6edd4b4c6ea93d8686c9eeffcb99'), HexBytes('0x815b54ed8cecc73504f08a1008e07ed9bb22c1cec0e2f0403f942f5e54aa06bd'), HexBytes('0x6df299a687071215ea1b7fcfd1aca80b08f6b6ac0ce2905760200b283e7cc3dd'), HexBytes('0x490fc3b6ccc7f5148809997ec8136570da6b1f3afe03b042332a0ef884d0601b'), HexBytes('0xaa3e2f75e21cffc2a9b4e77fc5b02ff20d9a150f8153dfc840a89413a3eb119d'), HexBytes('0xb0f36f60a115b54cc5bd4252bfbaabb63900133918cdb30f793c52526e82ddf3'), HexBytes('0x6a4fc3ec4ebfe2f967f0d9fce7761cffab6098b69d6a0827589851f2b894d62c'), HexBytes('0xec61782f2a2e0a03f7c42948063423a98808984ab159b81a8fd152fc880e5782'), HexBytes('0x9411a12dd0fbc42b237d026e05c79aa110f97078ba1f59d9cee4b8f23c1260e0'), HexBytes('0x3c670362d13e0f79cb2a551ef4c28e0e2172627793590ccbd0e81ffacd5afff5'), HexBytes('0xe7a904ffde6c8cb5c1eb52b300eeffde9f4f86cdae3629553b278c637a8cedc2'), HexBytes('0xfe7136de7d81813ea4bfc8f0fa1c1adf6385441601b0a68133d2ce3c20ee8ff0'), HexBytes('0x96ebfe618b1956ae7a22b16d7c6ac9c8c8db5ea9498f0652133b4577b0239965'), HexBytes('0xc5b227569f512c42cbe18ee15266b16a742a7a33a7edc9b2583d6c53712fa9b4'), HexBytes('0x5842ac4600e07f1a9734d39e7412e9840e43e8ccad4363433a27f8c65dc648d0'), HexBytes('0x8f92adcca9a8ae38b98fe0b91cae3972f95fcc0000211aa94769cc6754884f9b'), HexBytes('0x21b57d95fa7235f0aca0f7d5dab15dbec789ff61d2f450a40b3f4381a4305caf'), HexBytes('0x7524793caac3798304f6fd98303ddae8b80dc227611a6c6ed6d439969089c5f3'), HexBytes('0x67b3940098021d82c284c54ccc07cb1f87e08566ee038d27dae29bcb6d3901ba'), HexBytes('0x48abdc110eb5c0e1e8bd74eec91f7d93de127ece676c57c7ebb5ea3dc6952eef'), HexBytes('0xf076d6603703ae6f8a1e28f63e3153b88db05a96088d819a4dcab11ea3d31a5e'), HexBytes('0x1260efc25f0f68594e58324570099fff94e41682ad3a8be76df5445d59efc1f6'), HexBytes('0x1ac8af5c41e5cbe55f081bc0258ca2258fe847395a545c422a2db982a103914c'), HexBytes('0x14fec082885ccac790ceb1640dfa5fb245f60aa4289cdc8492092b63e7d38eec'), HexBytes('0xfe5ccb139d59790445f72e7026923853ad2eb6beb13026c0a1f4294812e6b348'), HexBytes('0x93b4e8a19f88ed5ad4dd5cd6f8ae2aa47a1c0482408668aaf900f15291711237'), HexBytes('0x2e038f766374211bc3671bcb5d8018a83d7621ed9f96c1255bb7b9431a623aa3'), HexBytes('0xdb8e710f39473e2ac087f7a90ccc83f269491f99a953b477725b0c2729366591'), HexBytes('0xbe7385b32140b9408fef0f16babd91183140d2887893b505fe86581c27416aa6'), HexBytes('0xbd297f708317fb8d8fb662b6c471cfd75ba6f0e8bf4dc20de5506c6f59473572'), HexBytes('0x80ed2e518cdac87885d943e820e788248b45dfc8b2b95f545d334fc5e4844986'), HexBytes('0xf8db53b548c33b289c7dd15f7a85506ae7713e79bff3526945672dfea31a6e75'), HexBytes('0x591af7b51fc5470570d0907f4e8826bd5509834be2e801f0a6e6e25e45d7fbdb'), HexBytes('0x6736b159e40c18850fe43f890ec3bafcdd90a5f72214fcefc5111aa200064a14'), HexBytes('0x8db431a473c30b69630f9bac68d63279546ff4fd424c94e44eab87c0dbe35f38'), HexBytes('0xf7835a5af2a905bb9e5516cc42d034ccdf037533709ed34310c5e1a551565252'), HexBytes('0xf36c283ea9e9984b3ccd431355e19586a081229e0e64aea82d8a19560736e05c'), HexBytes('0x61ad171d6155654f60996278a616467a4a366ae5b4688df0b73763dcb35be806'), HexBytes('0x73979c269e4cca83d8cf949565adafa9309ce4cb42434375d67d1e2bd1521793'), HexBytes('0x3a23719054db9a3d7ffbdec1d6f4d2b6902d890650a341465eb61cf6d22b9a2b'), HexBytes('0x019f874b5c2434230b51dce13730a2f7e6d1513db14e52201c02184935da368b'), HexBytes('0x3d4f14be049b183c1c7a2f2782a1c35cef18987a49ab75101d429d924945975d'), HexBytes('0xf043e64e02e930bbc868d482b0ac09d2f6a2388bf31329295670985d380aa544'), HexBytes('0x8f17d8eeee56e72291116658ffa33de4666f288bd3ba9ff7aabb241413d9ae9e'), HexBytes('0x03f3ca9a1be9f8b033ee88991e27aa4b59968dd94b12d68cdb151f06d823d727'), HexBytes('0xef884b516666e580f3acfa200894b3394a43f10297f6f2690fb13d96f1027dce'), HexBytes('0x74ac87ac224f89c8ca841055eed18ba3edf78f309c8a0c99f95d213ab1dbed3a'), HexBytes('0x6cd1ee53670ce5cf9d4e1339da7840991da3db08169da29c88116e9272923c46'), HexBytes('0x616c46f7ee8cccd08b0209963331eb4f5de619dc82c3e2a6f0f7ec160e7280ec'), HexBytes('0x0870b7c2da89e2b37fc7cfa29fbd082499f930640a54fa9ff98b24f23782801d'), HexBytes('0xca224dff9740227a5a5d69cea6e35324031bb0c15e71f657063258c5ebf655ca')], 'transactionsRoot': HexBytes('0xe2fa1364562f98c69d50240521a06bd406a61e081748ae762179135e75ce45e3'), 'uncles': [], 'withdrawals': [AttributeDict({'index': 38817248, 'validatorIndex': 494, 'address': '0x25c4a76E7d118705e7Ea2e9b7d8C59930d8aCD3b', 'amount': 3776}), AttributeDict({'index': 38817249, 'validatorIndex': 497, 'address': '0x25c4a76E7d118705e7Ea2e9b7d8C59930d8aCD3b', 'amount': 3776}), AttributeDict({'index': 38817250, 'validatorIndex': 900, 'address': '0xE276Bc378A527A8792B353cdCA5b5E53263DfB9e', 'amount': 3776}), AttributeDict({'index': 38817251, 'validatorIndex': 901, 'address': '0xE276Bc378A527A8792B353cdCA5b5E53263DfB9e', 'amount': 3776}), AttributeDict({'index': 38817252, 'validatorIndex': 902, 'address': '0xE276Bc378A527A8792B353cdCA5b5E53263DfB9e', 'amount': 3776}), AttributeDict({'index': 38817253, 'validatorIndex': 912, 'address': '0xE276Bc378A527A8792B353cdCA5b5E53263DfB9e', 'amount': 3776}), AttributeDict({'index': 38817254, 'validatorIndex': 915, 'address': '0xE276Bc378A527A8792B353cdCA5b5E53263DfB9e', 'amount': 3776}), AttributeDict({'index': 38817255, 'validatorIndex': 918, 'address': '0xE276Bc378A527A8792B353cdCA5b5E53263DfB9e', 'amount': 2832}), AttributeDict({'index': 38817256, 'validatorIndex': 921, 'address': '0xE276Bc378A527A8792B353cdCA5b5E53263DfB9e', 'amount': 2832}), AttributeDict({'index': 38817257, 'validatorIndex': 924, 'address': '0xE276Bc378A527A8792B353cdCA5b5E53263DfB9e', 'amount': 2832}), AttributeDict({'index': 38817258, 'validatorIndex': 926, 'address': '0xE276Bc378A527A8792B353cdCA5b5E53263DfB9e', 'amount': 2832}), AttributeDict({'index': 38817259, 'validatorIndex': 930, 'address': '0xE276Bc378A527A8792B353cdCA5b5E53263DfB9e', 'amount': 2832}), AttributeDict({'index': 38817260, 'validatorIndex': 938, 'address': '0xE276Bc378A527A8792B353cdCA5b5E53263DfB9e', 'amount': 2832}), AttributeDict({'index': 38817261, 'validatorIndex': 946, 'address': '0xE276Bc378A527A8792B353cdCA5b5E53263DfB9e', 'amount': 2832}), AttributeDict({'index': 38817262, 'validatorIndex': 947, 'address': '0xE276Bc378A527A8792B353cdCA5b5E53263DfB9e', 'amount': 2832}), AttributeDict({'index': 38817263, 'validatorIndex': 950, 'address': '0xE276Bc378A527A8792B353cdCA5b5E53263DfB9e', 'amount': 2832})], 'withdrawalsRoot': HexBytes('0xfcd9ed02be370d4138cb209d255fdb26aa30d91f0ad338e0f88781b3b7bbcc5f')})\n"
          ]
        }
      ],
      "source": [
        "# Setup\n",
        "import requests\n",
        "import json\n",
        "\n",
        "from web3 import Web3\n",
        "\n",
        "# Alchemy API URL\n",
        "alchemy_url = f\"https://eth-sepolia.g.alchemy.com/v2/{ALCHEMY_API_KEY}\"\n",
        "web3 = Web3(Web3.HTTPProvider(alchemy_url))\n",
        "\n",
        "# Print if web3 is successfully connected\n",
        "print(web3.is_connected())\n",
        "\n",
        "# Test Get the latest block number\n",
        "latest_block = web3.eth.get_block(\"latest\")\n",
        "print(latest_block)"
      ]
    },
    {
      "cell_type": "code",
      "execution_count": 26,
      "metadata": {
        "colab": {
          "base_uri": "https://localhost:8080/"
        },
        "id": "Nr8ItBImks5W",
        "outputId": "937bf200-8bd5-49ea-e035-315877c88604"
      },
      "outputs": [
        {
          "name": "stdout",
          "output_type": "stream",
          "text": [
            "--------------------------------------------------\n",
            "Connection Successful\n",
            "--------------------------------------------------\n"
          ]
        }
      ],
      "source": [
        "# Verify if the connection is successful\n",
        "if web3.is_connected():\n",
        "    print(\"-\" * 50)\n",
        "    print(\"Connection Successful\")\n",
        "    print(\"-\" * 50)\n",
        "else:\n",
        "    print(\"Connection Failed\")"
      ]
    },
    {
      "cell_type": "code",
      "execution_count": null,
      "metadata": {
        "colab": {
          "base_uri": "https://localhost:8080/"
        },
        "id": "dun7RKFvFuF4",
        "outputId": "7f2fc713-89ad-4286-9bc6-f00fff36bbfa"
      },
      "outputs": [
        {
          "name": "stdout",
          "output_type": "stream",
          "text": [
            "Error fetching contract ABI: Contract source code not verified\n"
          ]
        }
      ],
      "source": [
        "# URL for the Etherscan API endpoint to get contract ABI\n",
        "etherscan_url = f\"https://api.etherscan.io/api?module=contract&action=getabi&address={CONTRACT_ADDRESS}&apikey={ETHERSCAN_API_KEY}\"\n",
        "\n",
        "# Make an API request to Etherscan\n",
        "response = requests.get(etherscan_url)\n",
        "\n",
        "# Parse the response JSON\n",
        "data = response.json()\n",
        "\n",
        "# Check if the request was successful\n",
        "if data['status'] == '1' and data['message'] == 'OK':\n",
        "    # ABI is returned as a JSON-encoded string, so we need to parse it\n",
        "    contract_abi = json.loads(data['result'])\n",
        "    print(\"Contract ABI:\")\n",
        "    print(json.dumps(contract_abi, indent=2))\n",
        "else:\n",
        "    print(\"Error fetching contract ABI:\", data['result'])\n"
      ]
    },
    {
      "cell_type": "code",
      "execution_count": 44,
      "metadata": {
        "colab": {
          "base_uri": "https://localhost:8080/"
        },
        "id": "95e1ai9qk2ey",
        "outputId": "5387fa67-6f43-4b75-ab55-96980ff7a416"
      },
      "outputs": [
        {
          "name": "stdout",
          "output_type": "stream",
          "text": [
            "ABI is valid JSON.\n",
            "Function name: getSentence()\n",
            "Function name: setSentence(string newSentence)\n"
          ]
        }
      ],
      "source": [
        "# Initialize address nonce\n",
        "nonce = web3.eth.get_transaction_count(CALLER_ADDRESS)\n",
        "\n",
        "try:\n",
        "    # Parse the ABI string to a Python object\n",
        "    parsed_abi = json.loads(CONTRACT_ABI)\n",
        "    print(\"ABI is valid JSON.\")\n",
        "except json.JSONDecodeError as e:\n",
        "    print(f\"Invalid JSON: {e}\")\n",
        "\n",
        "# Then use the parsed ABI to create the contract instance\n",
        "contract = web3.eth.contract(address=CONTRACT_ADDRESS, abi=parsed_abi)\n",
        "\n",
        "# Now, parsed_abi should be a list of dictionaries\n",
        "if isinstance(parsed_abi, list):\n",
        "    # Extract functions from the ABI\n",
        "    functions = [item for item in parsed_abi if item.get('type') == 'function']\n",
        "\n",
        "    # Iterate over the functions and print details\n",
        "    for func in functions:\n",
        "        func_name = func.get('name', 'Unnamed function')\n",
        "        inputs = func.get('inputs', [])\n",
        "        input_details = ', '.join([f\"{inp['type']} {inp['name']}\" for inp in inputs])\n",
        "        print(f\"Function name: {func_name}({input_details})\")\n",
        "else:\n",
        "    print(\"The ABI was not parsed into a list as expected.\")\n",
        "\n",
        "\n",
        "# Create the contract instance\n",
        "contract = web3.eth.contract(address=CONTRACT_ADDRESS, abi=parsed_abi)"
      ]
    },
    {
      "cell_type": "code",
      "execution_count": 48,
      "metadata": {
        "id": "vsvi1zep3AMR"
      },
      "outputs": [],
      "source": [
        "# Function to get the sentence\n",
        "def get_sentence():\n",
        "    # Example function call (Make sure the function exists in your ABI)\n",
        "    try:\n",
        "        # Replace 'getSentence' with an actual function from your contract's ABI\n",
        "        quote = contract.functions.getSentence().call()\n",
        "        print(\"\\nThe famous quote is:\\n\", quote)\n",
        "        pass  # Replace or remove this pass statement with your function call\n",
        "    except Exception as e:\n",
        "        print(f\"Error calling function: {e}\")"
      ]
    },
    {
      "cell_type": "code",
      "execution_count": 46,
      "metadata": {
        "id": "b_2RDuGVZzXO"
      },
      "outputs": [],
      "source": [
        "from web3 import Web3, HTTPProvider\n",
        "import json\n",
        "\n",
        "# Assuming we've already got these variables defined\n",
        "# CONTRACT_ADDRESS, CALLER_ADDRESS, CALLER_PRIVATE_KEY\n",
        "\n",
        "CHAIN_ID = 11155111   # Unique ID for the Sepolia Testnet\n",
        "\n",
        "# Function to set the sentence\n",
        "def set_sentence(new_sentence):\n",
        "    # Initialize the nonce\n",
        "    nonce = web3.eth.get_transaction_count(CALLER_ADDRESS)\n",
        "\n",
        "    # Contract function to call\n",
        "    contract_function = contract.functions.setSentence(new_sentence)\n",
        "\n",
        "    # Set Gas limit - max we are willing to pay for the tx. Guards against overspending on complex tx.\n",
        "    # - Set too low - tx will fail due to \"out of gas\" error.\n",
        "    # - Set too high - unused gas is refunded, however should set judiciously to avoid blocking network resources.\n",
        "\n",
        "    # Estimate gas required for the transaction\n",
        "#    estimated_gas = contract_function.estimateGas({\n",
        "#        'from': CALLER_ADDRESS\n",
        "#    })\n",
        "    estimated_gas = 100000\n",
        "\n",
        "    # Set upper limit on unit willing to spend on the contract transaction - protects us from overspending on complex txs.\n",
        "    gas_limit = int(estimated_gas * 1.2)  # Adding a 20% buffer to account for unexpected fluctuations in gas requirements.\n",
        "                                          # Adjust based on your preference for speed versus cost\n",
        "\n",
        "    # Set Eth willing to pay per unit of gas.\n",
        "    # - Dictates priority with which tx is processed and included in a block.\n",
        "    # - Miners prioritize transactions with higher gasPrice values because they get to keep this fee, so a higher gasPrice can lead to faster transaction processing.\n",
        "    # - gasPrice we set impacts tx fee but not computation/processing limit. Total fee = gasPrice * actual gas used.\n",
        "    # - EIP-1559 uses an adjusted model.\n",
        "    #  - Base Fee: A part of the transaction fee that is burned (removed from circulation). It adjusts dynamically with network congestion.\n",
        "    #  - Priority Fee (Tip): An extra payment to miners to incentivize them to prioritize your transaction.\n",
        "    #  - Max Fee: The maximum total fee (base fee + priority fee) you're willing to pay per gas.\n",
        "    #  - Instead of setting gasPrice directly under this model; instead, you specify maxPriorityFeePerGas (maximum tip you're willing to pay on top of the base fee)\n",
        "    #    and a maxFeePerGas (the absolute maximum fee per gas, including both the base fee and priority fee).\n",
        "\n",
        "    # Get the current average gas price\n",
        "#   current_gas_price = web3.eth.gas_price\n",
        "    current_gas_price = web3.to_wei('50', 'gwei')\n",
        "\n",
        "    # Set a gas price slightly above average to ensure timely processing\n",
        "    gas_price = int(current_gas_price * 1.1)    # you may want to add specific increment based on current network conditions\n",
        "\n",
        "    # Example correct calculation:\n",
        "    transaction_cost = gas_limit * gas_price\n",
        "\n",
        "    if transaction_cost > web3.eth.get_balance(CALLER_ADDRESS):\n",
        "        print(\"Insufficient funds for the transaction.\")\n",
        "    else:\n",
        "        print()  # Proceed with the transaction\n",
        "\n",
        "\n",
        "    print(f\"gas_limit:{gas_limit}, gas_price:{gas_price}, transaction_cost:{transaction_cost}\")\n",
        "\n",
        "    # Construct the transaction\n",
        "    transaction = contract_function.build_transaction({\n",
        "        'chainId': CHAIN_ID,    # Set the network/chain ID\n",
        "        'gas': gas_limit,       # Set gas limit\n",
        "        'gasPrice': gas_price,  # Set gas price\n",
        "        'nonce': nonce,\n",
        "    })\n",
        "\n",
        "    # Sign the transaction\n",
        "    signed_txn = web3.eth.account.sign_transaction(transaction, private_key=CALLER_PRIVATE_KEY)\n",
        "\n",
        "    # Send the transaction\n",
        "    txn_hash = web3.eth.send_raw_transaction(signed_txn.rawTransaction)\n",
        "\n",
        "    # Wait for the transaction to be mined\n",
        "    txn_receipt = web3.eth.wait_for_transaction_receipt(txn_hash)\n",
        "\n",
        "    return txn_receipt"
      ]
    },
    {
      "cell_type": "code",
      "execution_count": 49,
      "metadata": {
        "colab": {
          "base_uri": "https://localhost:8080/"
        },
        "id": "_JZM2HBn3J2d",
        "outputId": "25885eb4-1562-4e9f-a59d-a3300c5b7071"
      },
      "outputs": [
        {
          "name": "stdout",
          "output_type": "stream",
          "text": [
            "\n",
            "The famous quote is:\n",
            " I want people with the capacity for not knowing what can't be done.\n"
          ]
        }
      ],
      "source": [
        "# Example usage\n",
        "get_sentence()\n",
        "\n",
        "# new_sentence = \"If I had asked people what they wanted, they would have said faster horses\"\n",
        "new_sentence = \"I need people with the capacity for not knowing what can't be done.\"\n",
        "#receipt = set_sentence(new_sentence)\n",
        "#print(\"Transaction receipt:\", receipt)"
      ]
    }
  ],
  "metadata": {
    "colab": {
      "provenance": []
    },
    "kernelspec": {
      "display_name": "Python 3",
      "name": "python3"
    },
    "language_info": {
      "name": "python"
    }
  },
  "nbformat": 4,
  "nbformat_minor": 0
}
